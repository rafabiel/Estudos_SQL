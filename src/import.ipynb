{
 "cells": [
  {
   "cell_type": "code",
   "execution_count": null,
   "metadata": {},
   "outputs": [],
   "source": [
    "import pandas as pd"
   ]
  },
  {
   "cell_type": "code",
   "execution_count": 40,
   "metadata": {},
   "outputs": [],
   "source": [
    "pd.set_option('display.max_columns', None)"
   ]
  },
  {
   "cell_type": "code",
   "execution_count": null,
   "metadata": {},
   "outputs": [],
   "source": [
    "import os\n",
    "def clear_console():\n",
    "    os.system('cls')"
   ]
  },
  {
   "cell_type": "code",
   "execution_count": null,
   "metadata": {},
   "outputs": [],
   "source": [
    "f = pd.ExcelFile('Feminicidio_2015_2022.xlsx')\n",
    "\n",
    "list_of_dfs = []\n",
    "cols = [3, 6, 9, 10, 11, 13, 14, 18, 19, 20, 21, 22, 23, 24, 25, 26, 27, 28, 29, 30, 31, 32]\n",
    "\n",
    "for sheet in f.sheet_names:\n",
    "    df = f.parse(sheet, skiprows=1, usecols=cols)\n",
    "    list_of_dfs.append(df)\n",
    "    \n",
    "data = pd.concat(list_of_dfs, ignore_index=True)\n",
    "\n",
    "data.columns = ['County', 'AmountVictim', 'Year', 'DateTimeOccurrence', 'NumOccurrence', 'CountyOccurrence',  'Precinct',  'FactHour', 'Place', 'Street', 'Number',  'Lat', 'Long', 'Type', 'Gender', 'Age', 'BirthDate', 'SkinColor', 'Profession', 'Crime', 'Why', 'Dead']\n",
    "data.fillna('', inplace=True)"
   ]
  },
  {
   "cell_type": "code",
   "execution_count": null,
   "metadata": {},
   "outputs": [],
   "source": [
    "data.head()\n",
    "\n",
    "# for col in data.columns:\n",
    "#     print(col)"
   ]
  },
  {
   "cell_type": "code",
   "execution_count": null,
   "metadata": {},
   "outputs": [],
   "source": [
    "test = data\n",
    "\n",
    "test['Dead'].fillna(test['Dead'].isnull)"
   ]
  },
  {
   "cell_type": "code",
   "execution_count": 42,
   "metadata": {},
   "outputs": [],
   "source": [
    "#data.head()\n",
    "from pathlib import Path \n",
    "filepath = Path('Feminicidio_2015_2022.csv') \n",
    "\n",
    "data.to_csv(filepath)"
   ]
  }
 ],
 "metadata": {
  "kernelspec": {
   "display_name": "Python 3.9.12 ('base')",
   "language": "python",
   "name": "python3"
  },
  "language_info": {
   "codemirror_mode": {
    "name": "ipython",
    "version": 3
   },
   "file_extension": ".py",
   "mimetype": "text/x-python",
   "name": "python",
   "nbconvert_exporter": "python",
   "pygments_lexer": "ipython3",
   "version": "3.9.12"
  },
  "orig_nbformat": 4,
  "vscode": {
   "interpreter": {
    "hash": "f9e5be87a0cd0a8cc3fa491f0d66478884626ac31738d3f6f4ae4417a434f3a8"
   }
  }
 },
 "nbformat": 4,
 "nbformat_minor": 2
}
